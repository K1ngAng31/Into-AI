{
 "cells": [
  {
   "cell_type": "markdown",
   "metadata": {},
   "source": [
    "# CSCI 3202, Spring 2020: Practicum\n",
    "\n",
    "---\n",
    "\n",
    "\n",
    "This practicum is due on Moodle by **11:59 PM on Friday May 1 2020**.  Your solutions to theoretical questions should be done in Markdown/LateX directly below the associated question. Your solutions to computational questions should include any relevant Python code, as well as results and any written commentary.\n",
    "\n",
    "**The rules:**\n",
    "\n",
    "1. All work, code and analysis must be **your own**.\n",
    "1. You may use your course notes, posted lecture slides, textbook, in-class notebooks and homework solutions as resources.  You may also search online for answers to general knowledge questions, like the form of a probability distribution function, or how to perform a particular operation in Python.\n",
    "1. You may **not** post to message boards or other online resources asking for help.\n",
    "1. **You may not collaborate with classmates or anyone else.**\n",
    "1. This is meant to be like a coding portion of your final exam. So, I will be much less helpful than I typically am with homework. For example, I will not check answers, help debug your code, and so on.\n",
    "1. If you have a question, post it first as a **private** Piazza message. If I decide that it is appropriate for the entire class, then I will make it a public post (and anonymous).\n",
    "1. If something is left open-ended, it is probably because I intend for you to code it up however you want, and only care about the plots/analysis I see at the end. Feel free to ask clarifying questions though.\n",
    "\n",
    "Violation of these rules will result in an **F** and a trip to the Honor Code council.\n",
    "\n",
    "---\n",
    "**By writing your name below, you agree to abide by these rules:**\n",
    "\n",
    "**Your name:** Angel Santana Hernandez\n",
    "\n",
    "---\n"
   ]
  },
  {
   "cell_type": "code",
   "execution_count": 7,
   "metadata": {},
   "outputs": [],
   "source": [
    "import pandas as pd\n",
    "import numpy as np\n",
    "import scipy.stats as stats\n",
    "import matplotlib.pyplot as plt\n",
    "from collections import defaultdict\n",
    "\n",
    "# added packages\n",
    "import heapq\n",
    "from matplotlib import colors"
   ]
  },
  {
   "cell_type": "markdown",
   "metadata": {},
   "source": [
    "---\n",
    "## [50 pts] Problem 1:  Route-finding\n",
    "\n",
    "Consider the map of the area to the west of the Engineering Center given below, with a fairly coarse Cartesian grid superimposed.\n",
    "\n",
    "<img src=\"http://www.cs.colorado.edu/~tonyewong/home/resources/engineering_center_grid_zoom.png\" style=\"width: 800px;\"/>\n",
    "\n",
    "The green square at $(x,y)=(1,15)$ is the starting location, and you would like to walk from there to the yellow square at $(25,9)$ with the **shortest total path length**. The filled-in blue squares are obstacles, and you cannot walk through those locations.  You also cannot walk outside of this grid.\n",
    "\n",
    "Legal moves in the North/South/East/West directions have a step cost of 1. Moves in the diagonal direction (for example, from $(1,15)$ to $(2,14)$) are allowed, but they have a step cost of $\\sqrt{2}$. \n",
    "\n",
    "Of course, you can probably do this problem (and likely have to some degree, in your head) without a search algorithm. But that will hopefully provide a useful \"sanity check\" for your answer.\n",
    "\n",
    "#### Part A\n",
    "Write a function `adjacent_states(state)`:\n",
    "* takes a single argument `state`, which is a tuple representing a valid state in this state space\n",
    "* returns in some form the states reachable from `state` and the step costs. How exactly you do this is up to you.\n",
    "\n",
    "Print to the screen the output for `adjacent_states((1,15))`."
   ]
  },
  {
   "cell_type": "code",
   "execution_count": 8,
   "metadata": {},
   "outputs": [
    {
     "name": "stdout",
     "output_type": "stream",
     "text": [
      "Adjacent States for (1, 15) and its cost:\n",
      " ((1, 16), 1)\n",
      "((2, 15), 1)\n",
      "((2, 16), 1.4142135623730951)\n",
      "((2, 14), 1.4142135623730951)\n"
     ]
    }
   ],
   "source": [
    "#create the map\n",
    "def mapLocations():#function to store our map obstacle locations \n",
    "    map_locations = [(5,1), (6,1), (7,1), (8,1), (9,1), (10,1), (11,1), (12,1), (13,1), (14,1),\n",
    "                     (15,1),(16,1), (17,1),(18,1), (19,1), (20,1), (21,1), (22,1), (23,1),(21,11),\n",
    "                     (22,11), (23,11), (24,11), (25,11), (1,12), (2,12), (3,12), (10,12), (11,12), \n",
    "                     (12,12), (13,12),(14, 12), (21, 12), (22, 12), (23, 12), (24, 12), (25, 12), \n",
    "                     (1,13), (2,13), (11,13), (12,13), (13,13),(1,2), (1,3), (2,3), (1,4), (2,4),\n",
    "                     (3,4), (1,5), (2,5),(3,5), (4,5), (1,6), (2,6), (3,6), (4,6), (1,7), (2,7), \n",
    "                     (3,7),(12,10), (13,10), (1,11), (2,11), (3,11), (4,11), (10,11), (11,11), (12,11),\n",
    "                     (13,11), (14,11), (14,13), (21,13), (22,13), (23,13), (24,13), (25,13), (1,14),\n",
    "                     (11,14), (12,14), (13,14), (14,14),(21,14), (22,14), (23,14), (24,14), (25,14),\n",
    "                     (21,15), (22,15), (23,15), (24,15), (25,15), (21,16),(22,16), (23,16), (24,16),\n",
    "                     (25,16),(4,7), (1,8), (2,8), (3,8), (4,8), (1,9),(2,9), (3,9), (4,9), (10,9), \n",
    "                     (11,9), (12,9), (13,9), (1,10), (2,10), (3,10), (4,10), (10,10), \n",
    "                     (11,10)]\n",
    "\n",
    "    return map_locations\n",
    "def adjacent_states(state):\n",
    "    \n",
    "    Map = mapLocations()#initialize our map obstacles\n",
    "    \n",
    "    #initialize our row and columns \n",
    "    row, col = state[0], state[1]\n",
    "    \n",
    "    #create a list to append adjacent state\n",
    "    adjacentStates = []\n",
    "    \n",
    "    #intialize our forward, down, left, and right moves\n",
    "    forward = (row, col + 1)\n",
    "    down = (row, col - 1)\n",
    "    left = (row - 1, col)\n",
    "    right = (row + 1, col)\n",
    "    \n",
    "    #initialize the cost\n",
    "    cost = 1 #for these movements cost is 1\n",
    "    \n",
    "    #check for the possible moves making sure not running into obstacles \n",
    "        #if it is possible, append them to our adjacent list \n",
    "        # along with appending the direction, we will also \n",
    "        # append the cost\n",
    "    \n",
    "    if(forward[1] <= 16 and forward not in Map):\n",
    "        adjacentStates.append((forward, cost))\n",
    "    if(down[1] >= 1 and down not in Map): \n",
    "        adjacentStates.append((down, cost))\n",
    "    if(left[0] >= 1 and left not in Map):\n",
    "        adjacentStates.append((left, cost)) \n",
    "    if(right[0] <= 25 and right not in Map):\n",
    "        adjacentStates.append((right, cost))\n",
    "    \n",
    "    #now we will initialize our diagnol movements\n",
    "    top_right = (row + 1, col + 1)\n",
    "    top_left = (row - 1, col + 1)\n",
    "    bottom_right = (row + 1, col - 1)\n",
    "    bottom_left = (row - 1, col - 1)\n",
    "    \n",
    "    #initialize cost\n",
    "    cost2 = np.sqrt(2)  #for these moves the cost is np.sqrt(2)\n",
    "    \n",
    "    #check for the possible diagnol directions making sure not running into obstacles\n",
    "        #if is is possible, append them to our adjacent list\n",
    "        # along with appending the direction, we will also \n",
    "        # append the cost, for diagnol movements \n",
    "    if(top_right[0] <= 25 and top_right[1] <= 16 and top_right not in Map):\n",
    "        adjacentStates.append((top_right, cost2))\n",
    "    if(top_left[0] >= 1 and top_left[1] <= 16 and top_left not in Map):\n",
    "        adjacentStates.append((top_left, cost2))\n",
    "    if(bottom_right[0] <= 25 and bottom_right[1] >= 1 and bottom_right not in Map):\n",
    "        adjacentStates.append((bottom_right, cost2))\n",
    "    if(bottom_left[0] >= 1 and bottom_left[1] >= 1 and bottom_left not in Map):\n",
    "        adjacentStates.append((bottom_left, cost2))\n",
    "    \n",
    "    #return the adject States\n",
    "    return adjacentStates\n",
    "\n",
    "\n",
    "\n",
    "#test our function\n",
    "test_adjacent_states = adjacent_states((1, 15))\n",
    "print(\"Adjacent States for (1, 15) and its cost:\\n\",\"\\n\".join(map(str, test_adjacent_states)))\n",
    "    "
   ]
  },
  {
   "cell_type": "markdown",
   "metadata": {},
   "source": [
    "#### Part B\n",
    "Three candidate heuristic functions might be:\n",
    "1. `heuristic_cols(state, goal)` = number of columns between the argument `state` and the `goal`\n",
    "1. `heuristic_rows(state, goal)` = number of rows between the argument `state` and the `goal`\n",
    "1. `heuristic_eucl(state, goal)` = Euclidean distance between the argument `state` and the `goal`\n",
    "\n",
    "Write a function `heuristic_max(state, goal)` that returns the maximum of all three of these heuristic functions for a given `state` and `goal`."
   ]
  },
  {
   "cell_type": "code",
   "execution_count": 10,
   "metadata": {},
   "outputs": [],
   "source": [
    "def heuristic_cols(state, goal):\n",
    "    return abs(state[0] - goal[0])\n",
    "#     pass\n",
    "def heuristic_rows(state, goal):\n",
    "    return abs(state[1] - goal[1])\n",
    "\n",
    "def heuristic_eucl(state, goal):\n",
    "    return np.abs(np.sqrt((state[0] - goal[0])**2 + (state[1] - goal[1])**2))\n",
    " \n",
    "def heuristic_max(state, goal):\n",
    "    return (max(heuristic_cols(state, goal), heuristic_rows(state, goal), heuristic_eucl(state, goal)))\n",
    "#test function\n",
    "# print(\"Test:\", heuristic_max((2, 2), (6, 4)))"
   ]
  },
  {
   "cell_type": "markdown",
   "metadata": {},
   "source": [
    "#### Part C\n",
    "Is the Manhattan distance an admissible heuristic function for this problem?  Explain why or why not."
   ]
  },
  {
   "cell_type": "markdown",
   "metadata": {},
   "source": [
    "The Manhattan distance is not an admissible heuristic function because from what we know is that it only deals with $horizontal$ and $vertical$ paths. Using this heuristic function will actually cause an over estimation when we reach our goal, and in this case, the admissible functions we use, allow for moves outside of $horizontal$ and $vertical$."
   ]
  },
  {
   "cell_type": "markdown",
   "metadata": {},
   "source": [
    "#### Part D\n",
    "Use A\\* search and the `heuristic_max` heuristic to find the shortest path from the initial state at $(1,15)$ to the goal state at $(25,9)$. Your search **should not** build up the entire state space graph in memory. Instead, use the `adjacent_states` function from Part A, similarly to the 8-tile problem from Homework 3."
   ]
  },
  {
   "cell_type": "code",
   "execution_count": 11,
   "metadata": {},
   "outputs": [
    {
     "name": "stdout",
     "output_type": "stream",
     "text": [
      "The Shortest Path from (1, 15) -> (25, 9):\n",
      " [(1, 15), (2, 15), (3, 15), (4, 14), (5, 13), (6, 12), (7, 11), (8, 10), (9, 9), (10, 8), (11, 8), (12, 8), (13, 8), (14, 8), (15, 8), (16, 8), (17, 8), (18, 8), (19, 8), (20, 8), (21, 8), (22, 8), (23, 8), (24, 8), (25, 9)]\n"
     ]
    }
   ],
   "source": [
    "#Code from hw 2 but modified\n",
    "class Frontier_PQ:\n",
    "    ''' frontier class for uniform search, ordered by path cost '''\n",
    "    def __init__(self, start, cost):\n",
    "        self.start = start\n",
    "        self.cost = cost\n",
    "        self.states= {}\n",
    "        self.q = []\n",
    "        \n",
    "    def add(self, state, cost, hcost):\n",
    "        self.states[state] = cost\n",
    "        heapq.heappush(self.q, (hcost + cost, state))\n",
    "        return \n",
    "    \n",
    "    def pop(self):#modified\n",
    "#         (cost, state) = heapq.heappop(self.q)  # get cost of getting to explored state\n",
    "#         self.states.pop(state)    # and remove from frontier\n",
    "        #applied the above in astar\n",
    "        return heapq.heappop(self.q)\n",
    "    \n",
    "    def replace(self, state, cost, hcost):\n",
    "        ''' found a cheaper route to `state`, replacing old cost with new `cost` '''\n",
    "        self.states[state] = cost\n",
    "        for i, (oldcost, oldstate) in enumerate(self.q):\n",
    "            if oldstate==state and oldcost > cost:\n",
    "                self.q[i] = (hcost + cost, state)\n",
    "                heapq._siftdown(self.q, 0, i) # now i is posisbly out of order; restore\n",
    "        return\n",
    "    \n",
    "    \n",
    "'''Helper Functions from hw and class notebooks'''\n",
    "def path(previous, s): \n",
    "    '''\n",
    "    `previous` is a dictionary chaining together the predecessor state that led to each state\n",
    "    `s` will be None for the initial state\n",
    "    otherwise, start from the last state `s` and recursively trace `previous` back to the initial state,\n",
    "    constructing a list of states visited as we go\n",
    "    '''\n",
    "    if s is None:\n",
    "        return []\n",
    "    else:\n",
    "        return path(previous, previous[s])+[s]\n",
    "\n",
    "'''Used hw 2 to help,but modified for this problem'''\n",
    "def astar_search(start, goal, heuristic_max, return_cost= True):\n",
    "    explored = {} #intitialize explored nodes list\n",
    "    frontier = Frontier_PQ(start, 0)\n",
    "    \n",
    "    explored[start] = (None) #set starting position to None\n",
    "    frontier.add(start, 0, heuristic_max(start, goal))\n",
    "\n",
    "    while frontier:#while the tuple list of cost and state\n",
    "        #pop the cost and parent states\n",
    "        state_cost, state_parent = frontier.pop()\n",
    "        if (state_parent == goal):#check to see it goal\n",
    "#             path_goal = path(explored, goal)#if it is get the path\n",
    "            if return_cost == True:\n",
    "                return (path(explored, goal))#if it is get the path)\n",
    "            else:\n",
    "                 return path(explored, goal)\n",
    "            \n",
    "        #iterate through our directions in adjacadjacent_states\n",
    "        for direction in adjacent_states(state_parent):\n",
    "            #check first move in explored and check to see if we haven't done it\n",
    "#             print(\"state_parent\", state_parent[0])\n",
    "            if direction[0] not in explored:\n",
    "                #check to see if the direction is in the states\n",
    "                if direction[0] in frontier.states:\n",
    "                    #check the cost from parent state to the next state less than the parent state\n",
    "                    if (frontier.states[state_parent] + direction[1] < frontier.states[direction[0]]):\n",
    "                        #if true, replace with new heuristic vals\n",
    "                        frontier.replace(direction[0], frontier.states[state_parent] + direction[1], heuristic_max(direction[0], goal))\n",
    "                        explored[direction[0]] = state_parent\n",
    "                #if the direction is not in the frontier states\n",
    "                if direction[0] not in frontier.states:\n",
    "                    explored[direction[0]] = state_parent\n",
    "                    state_child_cost = len(explored) - 1\n",
    "                    frontier.add(direction[0], state_child_cost, heuristic_max(direction[0], goal))\n",
    "    \n",
    "shortest_path = astar_search((1,15), (25,9), heuristic_max)\n",
    "print(\"The Shortest Path from (1, 15) -> (25, 9):\\n\", shortest_path)"
   ]
  },
  {
   "cell_type": "markdown",
   "metadata": {},
   "source": [
    "#### Part E\n",
    "Make a figure depicting the optimal route from the initial state to the goal, similarly to how you depicted the maze solution in Homework 2."
   ]
  },
  {
   "cell_type": "code",
   "execution_count": 12,
   "metadata": {},
   "outputs": [
    {
     "data": {
      "image/png": "[encoded data removed]",
      "text/plain": [
       "<Figure size 432x288 with 1 Axes>"
      ]
     },
     "metadata": {
      "needs_background": "light"
     },
     "output_type": "display_data"
    }
   ],
   "source": [
    "map_locations = [(5,1), (6,1), (7,1), (8,1), (9,1), (10,1), (11,1), (12,1), (13,1), (14,1),\n",
    "                     (15,1),(16,1), (17,1),(18,1), (19,1), (20,1), (21,1), (22,1), (23,1),(21,11),\n",
    "                     (22,11), (23,11), (24,11), (25,11), (1,12), (2,12), (3,12), (10,12), (11,12), \n",
    "                     (12,12), (13,12),(14, 12), (21, 12), (22, 12), (23, 12), (24, 12), (25, 12), \n",
    "                     (1,13), (2,13), (11,13), (12,13), (13,13),(1,2), (1,3), (2,3), (1,4), (2,4),\n",
    "                     (3,4), (1,5), (2,5),(3,5), (4,5), (1,6), (2,6), (3,6), (4,6), (1,7), (2,7), \n",
    "                     (3,7),(12,10), (13,10), (1,11), (2,11), (3,11), (4,11), (10,11), (11,11), (12,11),\n",
    "                     (13,11), (14,11), (14,13), (21,13), (22,13), (23,13), (24,13), (25,13), (1,14),\n",
    "                     (11,14), (12,14), (13,14), (14,14),(21,14), (22,14), (23,14), (24,14), (25,14),\n",
    "                     (21,15), (22,15), (23,15), (24,15), (25,15), (21,16),(22,16), (23,16), (24,16),\n",
    "                     (25,16),(4,7), (1,8), (2,8), (3,8), (4,8), (1,9),(2,9), (3,9), (4,9), (10,9), \n",
    "                     (11,9), (12,9), (13,9), (1,10), (2,10), (3,10), (4,10), (10,10), \n",
    "                     (11,10)]\n",
    "'''Using the top tuple way wasnt working, had to convert same way as hw2'''\n",
    "maze= np.array([\n",
    "    [0, 0, 0, 0, 0, 1, 1, 1, 1, 1, 1, 1, 1, 1, 1, 1, 1, 1, 1, 1, 1, 1, 1, 1, 0, 0],\n",
    "    [0, 1, 0, 0, 0, 0, 0, 0, 0, 0, 0, 0, 0, 0, 0, 0, 0, 0, 0, 0, 0, 0, 0, 0, 0, 0],\n",
    "    [0, 1, 1, 0, 0, 0, 0, 0, 0, 0, 0, 0, 0, 0, 0, 0, 0, 0, 0, 0, 0, 0, 0, 0, 0, 0],\n",
    "    [0, 1, 1, 1, 0, 0, 0, 0, 0, 0, 0, 0, 0, 0, 0, 0, 0, 0, 0, 0, 0, 0, 0, 0, 0, 0],\n",
    "    [0, 1, 1, 1, 1, 0, 0, 0, 0, 0, 0, 0, 0, 0, 0, 0, 0, 0, 0, 0, 0, 0, 0, 0, 0, 0],\n",
    "    [0, 1, 1, 1, 1, 0, 0, 0, 0, 0, 0, 0, 0, 0, 0, 0, 0, 0, 0, 0, 0, 0, 0, 0, 0, 0],\n",
    "    [0, 1, 1, 1, 1, 0, 0, 0, 0, 0, 0, 0, 0, 0, 0, 0, 0, 0, 0, 0, 0, 0, 0, 0, 0, 0],\n",
    "    [0, 1, 1, 1, 1, 0, 0, 0, 0, 0, 0, 0, 0, 0, 0, 0, 0, 0, 0, 0, 0, 0, 0, 0, 0, 0],\n",
    "    [0, 1, 1, 1, 1, 0, 0, 0, 0, 0, 0, 0, 0, 0, 0, 0, 0, 0, 0, 0, 0, 0, 0, 0, 0, 0],\n",
    "    [0, 1, 1, 1, 1, 0, 0, 0, 0, 0, 1, 1, 1, 1, 0, 0, 0, 0, 0, 0, 0, 0, 0, 0, 0, 0],\n",
    "    [0, 1, 1, 1, 1, 0, 0, 0, 0, 0, 1, 1, 1, 1, 0, 0, 0, 0, 0, 0, 0, 0, 0, 0, 0, 0],\n",
    "    [0, 1, 1, 1, 1, 0, 0, 0, 0, 0, 1, 1, 1, 1, 1, 0, 0, 0, 0, 0, 0, 1, 1, 1, 1, 1],\n",
    "    [0, 1, 1, 1, 0, 0, 0, 0, 0, 0, 1, 1, 1, 1, 1, 0, 0, 0, 0, 0, 0, 1, 1, 1, 1, 1],\n",
    "    [0, 1, 1, 0, 0, 0, 0, 0, 0, 0, 0, 1, 1, 1, 1, 0, 0, 0, 0, 0, 0, 1, 1, 1, 1, 1],\n",
    "    [0, 1, 0, 0, 0, 0, 0, 0, 0, 0, 0, 1, 1, 1, 1, 0, 0, 0, 0, 0, 0, 1, 1, 1, 1, 1],\n",
    "    [0, 0, 0, 0, 0, 0, 0, 0, 0, 0, 0, 0, 0, 0, 0, 0, 0, 0, 0, 0, 0, 1, 1, 1, 1, 1],\n",
    "    [0, 0, 0, 0, 0, 0, 0, 0, 0, 0, 0, 0, 0, 0, 0, 0, 0, 0, 0, 0, 0, 1, 1, 1, 1, 1]])\n",
    "\n",
    "def plot_maze(maze, path=None):    \n",
    "    ''' visualize the binary `maze` (assumed numpy array) and solution `path` (if provided)'''\n",
    "\n",
    "\n",
    "    nrow, ncol = maze.shape\n",
    "    \n",
    "    # create colormap\n",
    "    cmap = colors.ListedColormap(['coral', 'slategray'])\n",
    "\n",
    "    fig, ax = plt.subplots()\n",
    "    ax.imshow(maze, cmap=cmap, origin='lower')\n",
    "    \n",
    "    # draw gridlines\n",
    "    ax.grid(which='major', axis='both', linestyle='-', color='k')\n",
    "    ax.set_xticks(np.arange(-.5, ncol, 1))\n",
    "    ax.set_yticks(np.arange(-.5, nrow, 1))\n",
    "    ax.xaxis.set_ticklabels([])\n",
    "    ax.yaxis.set_ticklabels([])\n",
    "    # now draw the solution path, if one is provided\n",
    "    if path:\n",
    "        for p in range(len(path)-1):\n",
    "            point = path[p]\n",
    "            nextpoint = path[p+1]\n",
    "            plt.plot([point[0],nextpoint[0]], [point[1],nextpoint[1]], c='black')\n",
    "    plt.title(\"Graph Showing shortest path\")   \n",
    "    plt.show()\n",
    " \n",
    "#gives me a weird map\n",
    "plot_maze(maze, path = astar_search((1, 15), (25, 9), heuristic_max))"
   ]
  },
  {
   "cell_type": "markdown",
   "metadata": {},
   "source": [
    "\n",
    "---\n",
    "## [50 pts] Problem 2:  Bayesian networks\n",
    "\n",
    "#### Part A\n",
    "In this problem, we are going to construct our own Bayesian Network. The probabilities are not given outright. You will use the data file mentioned below to determine the appropriate probability distributions for each node in the Bayes net. \n",
    "\n",
    "Suppose we are about to go on a run and are trying to decide how far to run. Consider the Bayesian network depicted below for this decision. The length of our run ($R$, miles) is continuous and depends on the temperature ($T$, degrees Fahrenheit), which is also a continuous variable, and whether or not it is raining ($P$), which is a discrete Boolean variable.\n",
    "\n",
    "<img src=\"http://www.cs.colorado.edu/~tonyewong/home/resources/running_bayesnet.png\" style=\"width: 450px;\"/>\n",
    "\n",
    "1. Read in the data set [`data_running.csv`] from the Final Practicum Moodle folder. Read in the file as a pandas data frame.\n",
    "\n",
    "Answer/Complete the following:\n",
    "1. How many data points are there?\n",
    "1. Make a histogram of the distribution of temperature, with appropriate axis labels."
   ]
  },
  {
   "cell_type": "code",
   "execution_count": 13,
   "metadata": {},
   "outputs": [],
   "source": [
    "#Reading in the data set \n",
    "data_frame = pd.read_csv(\"data_running.csv\")\n",
    "# data_frame.head(10)test to make sure data is running"
   ]
  },
  {
   "cell_type": "code",
   "execution_count": 14,
   "metadata": {},
   "outputs": [
    {
     "name": "stdout",
     "output_type": "stream",
     "text": [
      "1. How many data points are there?\n",
      "200 data points\n"
     ]
    }
   ],
   "source": [
    "# 1. How many data points are there?\n",
    "data_frame_length = len(data_frame)\n",
    "print(\"1. How many data points are there?\")\n",
    "print( data_frame_length, \"data points\")"
   ]
  },
  {
   "cell_type": "code",
   "execution_count": 15,
   "metadata": {},
   "outputs": [
    {
     "data": {
      "image/png": "[encoded data removed]",
      "text/plain": [
       "<Figure size 432x288 with 1 Axes>"
      ]
     },
     "metadata": {
      "needs_background": "light"
     },
     "output_type": "display_data"
    }
   ],
   "source": [
    "#2. Make a histogram of the distribution of temperature, with appropriate axis labels.\n",
    "temp = data_frame[\"temperature\"].tolist()\n",
    "def histogram():\n",
    "    #plot the histogram\n",
    "    plt.hist(temp, bins=np.arange(20, 130, 5), facecolor='black', edgecolor = 'white', label='Data', density= 'True')\n",
    "    #label x and y to correspond to data set\n",
    "    plt.xlabel('Temp in Fahrenheit', fontsize=20)\n",
    "    plt.ylabel('Frequency',fontsize=20)\n",
    "    #title of histogram\n",
    "    plt.title('Temperature Histogram',fontsize=20)\n",
    "    #print the histogram\n",
    "    plt.show()\n",
    "histogram()"
   ]
  },
  {
   "cell_type": "markdown",
   "metadata": {},
   "source": [
    "#### Part B\n",
    "\n",
    "Using the data from the file in **Part A**, decide on appropriate prior distributions for $P$ and $T$.  Note that $P$ is discrete (Boolean), while $T$ is continuous.  \n",
    "\n",
    "Further guidance on what I am asking:\n",
    "\n",
    "So, for the distribution of $P$, you must determine P(P=True) and P(P=False). \n",
    "\n",
    "For T, study the histogram from **Part A**. Does the shape of the histogram remind you of any probability distribution you've seen before? We haven't seen a continuous probability distribution in class. However, the idea is the same as a discrete probability distribution. \n",
    "\n",
    "Continuous dsitributions you may or may not have encountered: Exponential, Uniform, Weibull, Normal, Chi-Squared, Logistic, Student-T, F. \n",
    "\n",
    "Choose a continuous distribution that fits $T$ and specify the appropriate parameters.\n"
   ]
  },
  {
   "cell_type": "code",
   "execution_count": 16,
   "metadata": {},
   "outputs": [
    {
     "name": "stdout",
     "output_type": "stream",
     "text": [
      "Probability that P(P = True): 24.0 %\n",
      "Probability that P(P = False): 76.0 %\n"
     ]
    }
   ],
   "source": [
    "def distribution_p():\n",
    "    #find the overall total of rain\n",
    "    total_rain_prob = len(data_frame[\"rain\"])\n",
    "    #find the probability of true when there is rain\n",
    "    prob_rain = len(data_frame.loc[data_frame[\"rain\"]==\"Yes\"])/total_rain_prob\n",
    "    #find the probability of false, when there is no rain\n",
    "    prob_no_rain = len(data_frame.loc[data_frame[\"rain\"]==\"No\"])/total_rain_prob\n",
    "    # test\n",
    "    # print(total_rain_prob)\n",
    "    print(\"Probability that P(P = True):\", prob_rain*100, \"%\")\n",
    "    print(\"Probability that P(P = False):\",prob_no_rain * 100, \"%\")\n",
    "distribution_p()"
   ]
  },
  {
   "cell_type": "code",
   "execution_count": 31,
   "metadata": {},
   "outputs": [
    {
     "data": {
      "image/png": "[encoded data removed]",
      "text/plain": [
       "<Figure size 432x288 with 1 Axes>"
      ]
     },
     "metadata": {
      "needs_background": "light"
     },
     "output_type": "display_data"
    }
   ],
   "source": [
    "#for this we will use the same information from part A to get our best fit \n",
    "#we will use pdf equation to get our distribution\n",
    "\n",
    "def continuous_distribution():\n",
    "    #find our mu \n",
    "    mu = np.mean(data_frame['temperature'])\n",
    "    #find the std\n",
    "    std = np.std(data_frame['temperature'])\n",
    "    pdf = stats.norm.pdf(np.linspace(20, 130, 1000), mu, std)\n",
    "\n",
    "\n",
    "    #2. Make a histogram of the distribution of temperature, with appropriate axis labels.\n",
    "    temp = data_frame[\"temperature\"]\n",
    "\n",
    "    #plot the histogram\n",
    "    plt.hist(temp, bins=np.arange(10, 130, 5), facecolor='red', edgecolor = 'white', label='Data', density= 'True')\n",
    "    plt.plot(np.linspace(20, 130, 1000), pdf, 'k', linewidth=3, label='PDF')\n",
    "    #label x and y to correspond to data set\n",
    "    plt.xlabel('Temp in Fahrenheit', fontsize=20)\n",
    "    plt.ylabel('Frequency',fontsize=20)\n",
    "    #title of histogram\n",
    "    plt.title('Temperature Histogram',fontsize=20)\n",
    "    #print the histogram\n",
    "    plt.legend()\n",
    "continuous_distribution()\n",
    "\n",
    "\n",
    "#source\n",
    "# http://danielhnyk.cz/fitting-distribution-histogram-using-python"
   ]
  },
  {
   "cell_type": "markdown",
   "metadata": {},
   "source": [
    "#### Part C\n",
    "\n",
    "Make two scatter plots:  one of the relationship between temperature (x-axis) and run length (y-axis) for only the days when it was raining, and one of this relationship for only the days when it was not raining. Label your axes appropriately. All of this data is contained in the csv file that you read in for **Part A**.\n"
   ]
  },
  {
   "cell_type": "code",
   "execution_count": 35,
   "metadata": {},
   "outputs": [
    {
     "data": {
      "text/plain": [
       "<Figure size 432x288 with 0 Axes>"
      ]
     },
     "metadata": {},
     "output_type": "display_data"
    },
    {
     "data": {
      "image/png": "[encoded data removed]",
      "text/plain": [
       "<Figure size 1080x1080 with 2 Axes>"
      ]
     },
     "metadata": {
      "needs_background": "light"
     },
     "output_type": "display_data"
    }
   ],
   "source": [
    "'''General use for both our scatter plots'''\n",
    "#initialize our figure and subplots\n",
    "figure = plt.figure()\n",
    "#put the fiures side by side\n",
    "figure, (axis1, axis2) = plt.subplots(nrows = 2, ncols = 1)\n",
    "#set the size of our plots\n",
    "figure.subplots_adjust(hspace = 0.5, wspace=0.5)\n",
    "figure.set_size_inches(15, 15)\n",
    "\n",
    "\n",
    "'''Scatter Plot code for days when it rains'''\n",
    "def scatter_plot_one():\n",
    "    days_raining = data_frame.loc[(data_frame[\"rain\"] == \"Yes\")]\n",
    "    days_raining_temp = days_raining['temperature']\n",
    "    days_raining_length = days_raining['length']\n",
    "    \n",
    "    #plot our data, using axis[0] to use the first scatter plot\n",
    "    axis1.scatter(days_raining_temp, days_raining_length, facecolor='green')\n",
    "    \n",
    "    #label our scatter plot \n",
    "    axis1.set_title('Temperature (x-axis) vs. Run length (y-axis) for Days that it rains', fontsize=20)\n",
    "    axis1.set_xlabel('Temperature in Fahrenheit', fontsize=20)\n",
    "    axis1.set_ylabel('Run Length', fontsize=20)\n",
    "#     plt.show()\n",
    "\n",
    "'''Scatter Plot code for days when it doesnt rain'''\n",
    "def scatter_plot_two():\n",
    "    days_not_raining = data_frame.loc[(data_frame[\"rain\"] == \"No\")]\n",
    "    days_not_raining_temp = days_not_raining['temperature']\n",
    "    days_not_raining_length = days_not_raining['length']\n",
    "    \n",
    "    #plot our data, using axis[0] to use the first scatter plot\n",
    "    axis2.scatter(days_not_raining_temp, days_not_raining_length, facecolor='red')\n",
    "    \n",
    "    #label our scatter plot \n",
    "    axis2.set_title('Temperature (x-axis) vs. Run length (y-axis) for days that it does not rain', fontsize=20)\n",
    "    axis2.set_xlabel('Temperature in Fahrenheit', fontsize=20)\n",
    "    axis2.set_ylabel('Run Length', fontsize=20)\n",
    "#     plt.show()\n",
    "    \n",
    "scatter_plot_one()\n",
    "scatter_plot_two()\n",
    "plt.show()"
   ]
  },
  {
   "cell_type": "markdown",
   "metadata": {},
   "source": [
    "#### Part D:\n",
    "\n",
    "This part is done for you as we didn't explicitly talk about regression in this class. Regression is likely a concept you've encountered in previous classes, so please review what's done here and make sure you understand before proceeding.\n",
    "\n",
    "Now, we need to specify the Conditional Probability table for Run length, R. Run length is necessarily non-negative, so we use a log-normal distribution as the conditional probability distribution for $R$, given $P$ and $T$. Let the log-normal parameter related to central tendency vary linearly with $T$, and categorically depending on whether or not it is raining. Keep the log-normal parameter related to distribution spread fixed. \n",
    "\n",
    "Lastly, we report the values of all relevant estimated parameters for the conditional probability distribution. "
   ]
  },
  {
   "cell_type": "code",
   "execution_count": 19,
   "metadata": {},
   "outputs": [
    {
     "name": "stdout",
     "output_type": "stream",
     "text": [
      "Log-linear regression with no rain: intercept=1.9087, slope=0.0049\n",
      "Log-linear regression with rain: intercept=1.9185, slope=0.0014\n",
      "Estimate of spread, regardless of rain: 0.1396\n"
     ]
    }
   ],
   "source": [
    "\n",
    "# We are doing a simple linear regression for log(R) = alpha + beta*T, \n",
    "# where different alpha and beta are estimated for +Rain and -Rain.\n",
    "\n",
    "lr_no = stats.linregress(data_frame.loc[data_frame['rain']=='No','temperature'], np.log(data_frame.loc[data_frame['rain']=='No','length']))\n",
    "lr_yes = stats.linregress(data_frame.loc[data_frame['rain']=='Yes','temperature'], np.log(data_frame.loc[data_frame['rain']=='Yes','length']))\n",
    "alpha_no, beta_no = lr_no.intercept, lr_no.slope\n",
    "alpha_yes, beta_yes = lr_yes.intercept, lr_yes.slope\n",
    "sigma = np.std(np.log(data_frame['length']))\n",
    "\n",
    "# report the parameter fits\n",
    "print('Log-linear regression with no rain: intercept={:0.4f}, slope={:0.4f}'.format(alpha_no, beta_no))\n",
    "print('Log-linear regression with rain: intercept={:0.4f}, slope={:0.4f}'.format(alpha_yes, beta_yes))\n",
    "print('Estimate of spread, regardless of rain: {:0.4f}'.format(sigma))"
   ]
  },
  {
   "cell_type": "markdown",
   "metadata": {},
   "source": [
    "#### Part E\n",
    "\n",
    "The following code graphs out conditional probability distributions for R given a specific temperature and rain versus no rain. \n",
    "\n",
    "Specifically the graphs show the probability distributions for your run length on a day that is 80 degrees Fahrenheit and not raining, as well as run length on an 80-degree day when it is raining.  These two distributions are plotted on the same set of axes, with run length (miles) on the x-axis and probability density on the y-axis. "
   ]
  },
  {
   "cell_type": "code",
   "execution_count": 20,
   "metadata": {},
   "outputs": [
    {
     "data": {
      "image/png": "[encoded data removed]",
      "text/plain": [
       "<Figure size 432x288 with 1 Axes>"
      ]
     },
     "metadata": {
      "needs_background": "light"
     },
     "output_type": "display_data"
    }
   ],
   "source": [
    "r = np.arange(0.25,15.25,0.25)\n",
    "mu_no = alpha_no + beta_no*80\n",
    "pdf_no = [stats.lognorm.pdf(x=rx, scale=np.exp(mu_no), s=sigma) for rx in r]\n",
    "mu_yes = alpha_yes + beta_yes*80\n",
    "pdf_yes = [stats.lognorm.pdf(x=rx, scale=np.exp(mu_yes), s=sigma) for rx in r]\n",
    "\n",
    "plt.plot(r, pdf_no, label='No rain')\n",
    "plt.plot(r, pdf_yes, label='Rain')\n",
    "plt.xlabel('Length of run [miles]')\n",
    "plt.ylabel('Probability density [-]')\n",
    "plt.legend()\n",
    "plt.show()\n",
    "\n"
   ]
  },
  {
   "cell_type": "markdown",
   "metadata": {},
   "source": [
    "Given this, find the following:\n",
    "- $P(R = 8 | P=T, Temp = 70)$\n",
    "- $P(R = 8 | P=F, Temp = 70)$\n",
    "\n",
    "Note: What's given about is an example of all of the probability values for R when the temperature is 80 degrees. Your task is to figure out how to compute the specific probabilities I've asked about."
   ]
  },
  {
   "cell_type": "code",
   "execution_count": 21,
   "metadata": {},
   "outputs": [
    {
     "name": "stdout",
     "output_type": "stream",
     "text": [
      "P(R = 8 | P=T, Temp = 70):  16.837493491904546 %\n",
      "P(R = 8 | P=F, Temp = 70):  32.574771542258254 %\n"
     ]
    }
   ],
   "source": [
    "# Your code here used code from above \n",
    "r = np.arange(0.25,15.25,0.25)\n",
    "mu_no = alpha_no + beta_no*70\n",
    "pdf_no = [stats.lognorm.pdf(x=8, scale=np.exp(mu_no), s=sigma) for x in r]\n",
    "mu_yes = alpha_yes + beta_yes*70\n",
    "pdf_yes = [stats.lognorm.pdf(x=8, scale=np.exp(mu_yes), s=sigma) for x in r]\n",
    "\n",
    "print(\"P(R = 8 | P=T, Temp = 70): \",pdf_no[31]*100, \"%\")\n",
    "\n",
    "print(\"P(R = 8 | P=F, Temp = 70): \",pdf_yes[31]*100, \"%\")"
   ]
  },
  {
   "cell_type": "markdown",
   "metadata": {},
   "source": [
    "\n",
    "#### Part F\n",
    "\n",
    "If you made it this far, we now have a working Bayesian Network with the CPTs specified!\n",
    "\n",
    "Now we will get a chance to actually perform sampling from a Bayesian Network. I briefly talked about this in lecture, but I will walk you through the steps. It's a really cool way to use a Bayesian Network. Please read the comments in the code below and fill in where indicated. Specifically, look for the \"# Your code here.\" comments.\n",
    "\n",
    "We are going to estimate the probability of going on a run **at least** 8 miles in length. "
   ]
  },
  {
   "cell_type": "code",
   "execution_count": 33,
   "metadata": {},
   "outputs": [
    {
     "name": "stdout",
     "output_type": "stream",
     "text": [
      "The probability of going on at least 8 miles: 0.6252\n"
     ]
    }
   ],
   "source": [
    "# We will be taking 10,000 random samples from our Bayesian Network.\n",
    "n_iter = 10000\n",
    "\n",
    "# The following line is specifying the threshold run length.\n",
    "rlength = 8\n",
    "\n",
    "# Select 10,000 random samples from P prior\n",
    "# So that we all have the similar answers, set P(rain=True) = 0.3 and\n",
    "# set P(rain=False) = 0.7\n",
    "# Hint: you are sampling from a Boolean array with the specified \n",
    "# probabilities.\n",
    "rain = np.random.choice([True, False], 10000, [0.3, 0.7])# Your code here.\n",
    "\n",
    "# Select 10,000 random samples from T prior\n",
    "temp = np.random.normal(np.mean(data_frame['temperature']), np.std(data_frame['temperature']), 10000)\n",
    "\n",
    "# sample from R | P,T conditional distribution\n",
    "# Done for you.\n",
    "run_length = []\n",
    "for k in range(n_iter):\n",
    "    mu = alpha_yes + beta_yes*temp[k] if rain[k] else alpha_no + beta_no*temp[k]\n",
    "    run_length.append(stats.lognorm.rvs(scale=np.exp(mu), s=sigma))\n",
    "\n",
    "# Create a data frame with columns for rain, temp, and length. \n",
    "# The values from the rain column should be the random samples from above.\n",
    "# The values from the temp column should be the random samples above.\n",
    "# The values in the length column should be the run_length values from above.\n",
    "\n",
    "dfSample = [i for i in run_length if i >= 8]\n",
    "\n",
    "# Using your dfSample dataframe, compute the probability of a run\n",
    "# greater than or equal to 8 miles.\n",
    "print(\"The probability of going on at least 8 miles:\", len(dfSample)/len(run_length))\n",
    "# Your code here."
   ]
  },
  {
   "cell_type": "code",
   "execution_count": null,
   "metadata": {},
   "outputs": [],
   "source": []
  }
 ],
 "metadata": {
  "kernelspec": {
   "display_name": "Python 3",
   "language": "python",
   "name": "python3"
  },
  "language_info": {
   "codemirror_mode": {
    "name": "ipython",
    "version": 3
   },
   "file_extension": ".py",
   "mimetype": "text/x-python",
   "name": "python",
   "nbconvert_exporter": "python",
   "pygments_lexer": "ipython3",
   "version": "3.7.3"
  }
 },
 "nbformat": 4,
 "nbformat_minor": 2
}
